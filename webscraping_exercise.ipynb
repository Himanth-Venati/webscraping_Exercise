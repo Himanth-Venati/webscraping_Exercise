{
 "cells": [
  {
   "cell_type": "markdown",
   "metadata": {},
   "source": [
    "*Extract the 5 days, day and night (10 entries) of weather from Los Angeles in weather.gov.\n",
    "*inspect with the console\n",
    "*write code to target the right elements of the text\n",
    "*For each day, you need to store:\n",
    "*The day of the week (wednesday)\n",
    "**The date (03/11/2021)\n",
    "*A short description of the conditions (Clear early then increasing cloudiness after midnight. Low 41F. Winds light and variable)"
   ]
  },
  {
   "cell_type": "markdown",
   "metadata": {},
   "source": [
    "* This is one way to get data using class and .text"
   ]
  },
  {
   "cell_type": "code",
   "execution_count": null,
   "metadata": {},
   "outputs": [
    {
     "name": "stdout",
     "output_type": "stream",
     "text": [
      "<Response [200]>\n",
      "TodayPatchy dense fog before 11am.  Otherwise, cloudy through mid morning, then gradual clearing, with a high near 75. Light and variable wind becoming west southwest 5 to 10 mph in the afternoon. \n",
      "TonightIncreasing clouds, with a low around 57. West southwest wind 5 to 10 mph becoming light and variable  in the evening. \n"
     ]
    }
   ],
   "source": [
    "import requests\n",
    "from bs4 import BeautifulSoup\n",
    "page=requests.get(\"https://forecast.weather.gov/MapClick.php?x=276&y=148&site=lox&zmx=&zmy=&map_x=276&map_y=148#.YYKI7WDMKUl\")\n",
    "print(page)\n",
    "soup=BeautifulSoup(page.content,'html.parser')\n",
    "forecast=soup.find('div',class_=\"row row-odd row-forecast\")\n",
    "forecast1=soup.find('div',class_=\"row row-even row-forecast\")\n",
    "\n",
    "print(forecast.text)\n",
    "print(forecast1.text)\n"
   ]
  },
  {
   "cell_type": "markdown",
   "metadata": {},
   "source": [
    "*This is second way to get data by using list and indexing and slicing of list\n",
    "'''most preferable way to get data easyly in beautifulsoup'''"
   ]
  },
  {
   "cell_type": "code",
   "execution_count": null,
   "metadata": {},
   "outputs": [
    {
     "name": "stdout",
     "output_type": "stream",
     "text": [
      "today forecast=\n",
      "[<div class=\"col-sm-10 forecast-text\">Sunny, with a high near 75. West southwest wind 5 to 10 mph. </div>, <div class=\"row row-even row-forecast\"><div class=\"col-sm-2 forecast-label\"><b>Tonight</b></div><div class=\"col-sm-10 forecast-text\">Increasing clouds, with a low around 57. Southwest wind 5 to 10 mph becoming light and variable  in the evening. </div></div>]\n"
     ]
    },
    {
     "data": {
      "text/plain": [
       "{'Today': ['wednesday',\n",
       "  'Sunny, with a high near 75. Increasing clouds 57 variable  in the evening']}"
      ]
     },
     "execution_count": 104,
     "metadata": {},
     "output_type": "execute_result"
    }
   ],
   "source": [
    "div=soup.find_all('div', id=\"detailed-forecast\")\n",
    "forecast2=div[0].find_all('div')[4:6]\n",
    "print('today forecast=', forecast2,sep='\\n')\n",
    "{'Today':['wednesday','Sunny, with a high near 75. Increasing clouds 57 variable  in the evening']}"
   ]
  },
  {
   "cell_type": "code",
   "execution_count": null,
   "metadata": {},
   "outputs": [
    {
     "name": "stdout",
     "output_type": "stream",
     "text": [
      "<Response [200]>\n",
      "five days forecast=\n",
      "[<div class=\"col-sm-10 forecast-text\">Sunny, with a high near 75. West southwest wind around 10 mph. </div>, <div class=\"row row-even row-forecast\"><div class=\"col-sm-2 forecast-label\"><b>Tonight</b></div><div class=\"col-sm-10 forecast-text\">Increasing clouds, with a low around 57. Southwest wind 5 to 10 mph becoming light and variable  in the evening. </div></div>, <div class=\"col-sm-2 forecast-label\"><b>Tonight</b></div>, <div class=\"col-sm-10 forecast-text\">Increasing clouds, with a low around 57. Southwest wind 5 to 10 mph becoming light and variable  in the evening. </div>, <div class=\"row row-odd row-forecast\"><div class=\"col-sm-2 forecast-label\"><b>Thursday</b></div><div class=\"col-sm-10 forecast-text\">Patchy fog before 11am.  Otherwise, cloudy through mid morning, then gradual clearing, with a high near 74. Light and variable wind becoming west southwest 5 to 10 mph in the afternoon. </div></div>, <div class=\"col-sm-2 forecast-label\"><b>Thursday</b></div>, <div class=\"col-sm-10 forecast-text\">Patchy fog before 11am.  Otherwise, cloudy through mid morning, then gradual clearing, with a high near 74. Light and variable wind becoming west southwest 5 to 10 mph in the afternoon. </div>, <div class=\"row row-even row-forecast\"><div class=\"col-sm-2 forecast-label\"><b>Thursday Night</b></div><div class=\"col-sm-10 forecast-text\">Clear, with a low around 57. West southwest wind 5 to 10 mph becoming light and variable  in the evening. </div></div>, <div class=\"col-sm-2 forecast-label\"><b>Thursday Night</b></div>, <div class=\"col-sm-10 forecast-text\">Clear, with a low around 57. West southwest wind 5 to 10 mph becoming light and variable  in the evening. </div>, <div class=\"row row-odd row-forecast\"><div class=\"col-sm-2 forecast-label\"><b>Friday</b></div><div class=\"col-sm-10 forecast-text\">Sunny, with a high near 76. Light and variable wind becoming southeast 5 to 10 mph in the morning. </div></div>, <div class=\"col-sm-2 forecast-label\"><b>Friday</b></div>, <div class=\"col-sm-10 forecast-text\">Sunny, with a high near 76. Light and variable wind becoming southeast 5 to 10 mph in the morning. </div>, <div class=\"row row-even row-forecast\"><div class=\"col-sm-2 forecast-label\"><b>Friday Night</b></div><div class=\"col-sm-10 forecast-text\">Partly cloudy, with a low around 56.</div></div>, <div class=\"col-sm-2 forecast-label\"><b>Friday Night</b></div>, <div class=\"col-sm-10 forecast-text\">Partly cloudy, with a low around 56.</div>, <div class=\"row row-odd row-forecast\"><div class=\"col-sm-2 forecast-label\"><b>Saturday</b></div><div class=\"col-sm-10 forecast-text\">Patchy fog before 11am.  Otherwise, partly sunny, with a high near 73.</div></div>, <div class=\"col-sm-2 forecast-label\"><b>Saturday</b></div>, <div class=\"col-sm-10 forecast-text\">Patchy fog before 11am.  Otherwise, partly sunny, with a high near 73.</div>]\n"
     ]
    },
    {
     "data": {
      "text/plain": [
       "{'Day1': ['wednesday',\n",
       "  'Sunny, with a high near 75. Increasing clouds 57 variable  in the evening'],\n",
       " 'Day2': ['Thursday',\n",
       "  'Sunny, with a high near 74. Increasing clouds 57 variable  in the evening'],\n",
       " 'Day3': ['friday',\n",
       "  'Sunny, with a high near 76. Partly cloudy, with a low around 56'],\n",
       " 'Day4': ['saturday',\n",
       "  'Partly cloudy, with a low around 56. mostly cloudy, with a low around 54.'],\n",
       " 'Day5': ['sunday',\n",
       "  'Sunny, with a high near 73. mostly cloudy, with a low around 53.']}"
      ]
     },
     "execution_count": 106,
     "metadata": {},
     "output_type": "execute_result"
    }
   ],
   "source": [
    "import requests\n",
    "from bs4 import BeautifulSoup\n",
    "page=requests.get('https://forecast.weather.gov/MapClick.php?x=276&y=148&site=lox&zmx=&zmy=&map_x=276&map_y=148#.YYKI7WDMKUl')\n",
    "print(page)\n",
    "soup=BeautifulSoup(page.content,'html.parser')\n",
    "div=soup.find_all('div',id='detailed-forecast')\n",
    "forecast_fivedays=div[0].find_all('div')[4:23]\n",
    "print('five days forecast=',forecast_fivedays,sep='\\n')\n",
    "{'Day1':['wednesday','Sunny, with a high near 75. Increasing clouds 57 variable  in the evening'],\n",
    "'Day2':['Thursday','Sunny, with a high near 74. Increasing clouds 57 variable  in the evening'],\n",
    "'Day3':['friday','Sunny, with a high near 76. Partly cloudy, with a low around 56'],\n",
    "'Day4':['saturday','Partly cloudy, with a low around 56. mostly cloudy, with a low around 54.'],\n",
    "'Day5':['sunday','Sunny, with a high near 73. mostly cloudy, with a low around 53.']}"
   ]
  },
  {
   "cell_type": "code",
   "execution_count": null,
   "metadata": {},
   "outputs": [],
   "source": [
    "'''fahrenheit to celsius'''\n",
    "fehrenheit= float(input('Enter Fahrenheit Temp:  '))\n",
    "celsius=(fehrenheit-32)*5/9\n",
    "print('Temp in celsius: {0}'.format(celsius))"
   ]
  }
 ],
 "metadata": {
  "interpreter": {
   "hash": "8e98eea00a698c66ff9007bd5a8bf6209cdaa78d416205c57d24ef9296d8223a"
  },
  "kernelspec": {
   "display_name": "Python 3.8.12 64-bit ('strive': conda)",
   "name": "python3"
  },
  "language_info": {
   "codemirror_mode": {
    "name": "ipython",
    "version": 3
   },
   "file_extension": ".py",
   "mimetype": "text/x-python",
   "name": "python",
   "nbconvert_exporter": "python",
   "pygments_lexer": "ipython3",
   "version": "3.8.12"
  },
  "orig_nbformat": 4
 },
 "nbformat": 4,
 "nbformat_minor": 2
}
